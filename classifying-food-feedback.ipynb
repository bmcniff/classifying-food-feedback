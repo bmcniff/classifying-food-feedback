{
 "cells": [
  {
   "cell_type": "markdown",
   "id": "3b34d44b-4dcb-44d9-be35-d865574e1791",
   "metadata": {
    "tags": []
   },
   "source": [
    "### Overview\n",
    "\n",
    "My goal for this project is to implement text classification for restaurant reviews on Grubhub to understand whether the review is about the food or the delivery experience. In the past, I've noticed that many of the bad reviews on platforms like these are actually due to a bad delivery experience, which is often not the fault of the restaurant. For small businesses, this handful of bad reviews can be a detriment to their success on a platform like Grubhub, Doordash, or Uber Eats. \n",
    "\n",
    "Additionally, as a customer, I would value the ability to understand how a restaurant scores across multiple categories, not just in aggregate.\n",
    "\n",
    "One aspect of this project I was very curious about was whether I'd be able to generate predictions using an unsupervised approach. In this case, since I am scraping reviews from Grubhub myself, I would also need to label the data, which is unrealistic across a sample size this large.\n",
    "\n",
    "After some research, I came across [Lbl2Vec](https://github.com/sebischair/Lbl2Vec) which provides \"an algorithm for unsupervised document classification and unsupervised document retrieval\". Sounds like exactly what I need! Lbl2Vec works by referencing a list of predefined categories, the sample text, and its understanding of language/similarities between words. Using these components, the algorithm can decide which category is most appropriate for the sample text.\n",
    "\n",
    "### Data Collection/Cleansing\n",
    "\n",
    "Using a combination of Beautiful Soup, Selenium, and the WebScraper web extension, I pulled reviews from 50 restaurants in my area, with a total of about 8,500 reviews. Based on my past experience, this is a small dataset to use for NLP, but I wanted to start with a simple baseline to understand if this was viable.\n",
    "\n",
    "It is worth noting as well that I did spend about 20 minutes manually labeling roughly 300 randomly selected reviews with categories in order to evaluate model accuracy."
   ]
  },
  {
   "cell_type": "code",
   "execution_count": 1,
   "id": "11ff0570-42bc-43d6-95ae-a58a920249d3",
   "metadata": {},
   "outputs": [
    {
     "name": "stderr",
     "output_type": "stream",
     "text": [
      "/Users/brianmcniff/opt/anaconda3/lib/python3.9/site-packages/gensim/similarities/__init__.py:15: UserWarning: The gensim.similarities.levenshtein submodule is disabled, because the optional Levenshtein package <https://pypi.org/project/python-Levenshtein/> is unavailable. Install Levenhstein (e.g. `pip install python-Levenshtein`) to suppress this warning.\n",
      "  warnings.warn(msg)\n"
     ]
    }
   ],
   "source": [
    "from lbl2vec import Lbl2Vec\n",
    "\n",
    "import numpy as np\n",
    "import pandas as pd\n",
    "\n",
    "from sklearn.model_selection import train_test_split\n",
    "from sklearn.metrics import confusion_matrix\n",
    "from sklearn.metrics import f1_score\n",
    "\n",
    "from gensim.utils import simple_preprocess\n",
    "from gensim.parsing.preprocessing import strip_tags\n",
    "from gensim.models.doc2vec import TaggedDocument\n",
    "\n",
    "import plotly.express as px"
   ]
  },
  {
   "cell_type": "code",
   "execution_count": 2,
   "id": "bc230ce2-c259-4d92-a120-e6e822112c0a",
   "metadata": {},
   "outputs": [],
   "source": [
    "def parse_reviews(csv_file_path):\n",
    "    # one row per review, includes small percent of manually tagged categories\n",
    "    reviews = pd.read_csv(csv_file_path)\n",
    "    reviews.columns = ['review_id', 'store_url', 'stars_raw', 'text', 'word_count', 'class_name']\n",
    "\n",
    "    # remove comments manually tagged as 'multi' (multiple categories in one comment)\n",
    "    reviews = reviews[reviews['class_name']!='multi']\n",
    "\n",
    "    # partition train/test based on presence of manual tagging\n",
    "    train = reviews[pd.isna(reviews['class_name'])]\n",
    "    test = reviews[~pd.isna(reviews['class_name'])]\n",
    "\n",
    "    # add data set type column\n",
    "    train['data_set_type'] = 'train'\n",
    "    test['data_set_type'] = 'test'\n",
    "\n",
    "    # concat train and test data\n",
    "    corpus = pd.concat([train,test]).reset_index(drop=True)\n",
    "    \n",
    "    return corpus\n",
    "\n",
    "corpus = parse_reviews('/Users/brianmcniff/Downloads/grubhub_reviews.csv')"
   ]
  },
  {
   "cell_type": "markdown",
   "id": "5b37b315-3e0c-4e30-a2b7-9e32823cb4f6",
   "metadata": {},
   "source": [
    "In addition to text data, Lbl2Vec also requires a manually specified list of categories. As shown below, each category is actually defined by its keywords. In my opinion, tweaking these categories ended up being the most interesting part of the project, and will get into details later.\n",
    "\n",
    "For this project, I decided a good goal was to determine whether a review was about the quality of the food, the delivery experience, or the accuracy of the order, and did my best to come up with some relevant words using out of sample reviews as inspiration."
   ]
  },
  {
   "cell_type": "code",
   "execution_count": 4,
   "id": "1ae567a7-f6b9-4c97-9c42-56477afcafed",
   "metadata": {},
   "outputs": [],
   "source": [
    "#dict of manually specified category/tag pairs\n",
    "labels_dict = {\n",
    "    'quality': ['old', 'burnt', 'soggy', 'burn', 'best', 'full', 'incredible', 'excellent', 'fresh', 'gross', 'tasty', 'spicy', 'dry', 'frozen', 'hard', 'awesome', 'excellent', 'mushy', 'delicious', 'delish', 'options'],\n",
    "    'delivery': ['hour', 'late', 'time', 'minutes', 'late', 'lost', 'directions', 'instructions', 'outside', 'door', 'floor', 'stairs', 'downstairs', 'lobby', 'porch', 'leave'],\n",
    "    'accuracy': ['missing', 'item', 'incomplete', 'forgot', 'correct']\n",
    "}\n",
    "\n",
    "# creation of label dataframe\n",
    "def parse_labels(labels_dict):\n",
    "    labels_list = [[cat, tags, len(tags)] for cat, tags in labels_dict.items()]\n",
    "    labels = pd.DataFrame(labels_list, columns = ['class_name', 'keywords', 'number_of_keywords'])\n",
    "    labels = labels.reset_index()\n",
    "    \n",
    "    return labels\n",
    "\n",
    "labels = parse_labels(labels_dict)"
   ]
  },
  {
   "cell_type": "markdown",
   "id": "e2e4a730-7eeb-407a-a660-a313fc85e82d",
   "metadata": {},
   "source": [
    "### Making Predictions\n",
    "\n",
    "At this point, we have all of the data we'll need to make predictions. I found a very helpful [article](https://towardsdatascience.com/unsupervised-text-classification-with-lbl2vec-6c5e040354de) published by the creator of the library, which runs through a simple demonstration. I used this as a jumping off point to create a function which tokenizes and tags documents, as well as a function which tests the model on our manually tagged dataset to understand how well it performs.\n",
    "\n",
    "My goal in keeping each of these steps of the process modularized is to enable quick and easy iteration, as I suspect model tuning will be a significant part of this process. Let's try running this and see how our first attempt goes."
   ]
  },
  {
   "cell_type": "code",
   "execution_count": 21,
   "id": "7540766c-44a3-4ea0-b712-159726fe2661",
   "metadata": {},
   "outputs": [
    {
     "name": "stderr",
     "output_type": "stream",
     "text": [
      "2023-09-21 18:05:47,950 - Lbl2Vec - WARNING - The following keywords from the 'keywords_list' are unknown to the Doc2Vec model and therefore not used to train the model: gross plain vegetables\n",
      "2023-09-21 18:05:47,950 - Lbl2Vec - WARNING - The following keywords from the 'keywords_list' are unknown to the Doc2Vec model and therefore not used to train the model: gross plain vegetables\n",
      "2023-09-21 18:05:47,950 - Lbl2Vec - WARNING - The following keywords from the 'keywords_list' are unknown to the Doc2Vec model and therefore not used to train the model: gross plain vegetables\n",
      "2023-09-21 18:05:47,950 - Lbl2Vec - WARNING - The following keywords from the 'keywords_list' are unknown to the Doc2Vec model and therefore not used to train the model: gross plain vegetables\n",
      "2023-09-21 18:05:47,950 - Lbl2Vec - WARNING - The following keywords from the 'keywords_list' are unknown to the Doc2Vec model and therefore not used to train the model: gross plain vegetables\n",
      "2023-09-21 18:05:47,950 - Lbl2Vec - WARNING - The following keywords from the 'keywords_list' are unknown to the Doc2Vec model and therefore not used to train the model: gross plain vegetables\n",
      "2023-09-21 18:05:47,950 - Lbl2Vec - WARNING - The following keywords from the 'keywords_list' are unknown to the Doc2Vec model and therefore not used to train the model: gross plain vegetables\n",
      "2023-09-21 18:05:47,950 - Lbl2Vec - WARNING - The following keywords from the 'keywords_list' are unknown to the Doc2Vec model and therefore not used to train the model: gross plain vegetables\n",
      "2023-09-21 18:05:47,950 - Lbl2Vec - WARNING - The following keywords from the 'keywords_list' are unknown to the Doc2Vec model and therefore not used to train the model: gross plain vegetables\n",
      "2023-09-21 18:05:47,950 - Lbl2Vec - WARNING - The following keywords from the 'keywords_list' are unknown to the Doc2Vec model and therefore not used to train the model: gross plain vegetables\n",
      "2023-09-21 18:05:47,963 - Lbl2Vec - WARNING - The following keywords from the 'keywords_list' are unknown to the Doc2Vec model and therefore not used to train the model: lost\n",
      "2023-09-21 18:05:47,963 - Lbl2Vec - WARNING - The following keywords from the 'keywords_list' are unknown to the Doc2Vec model and therefore not used to train the model: lost\n",
      "2023-09-21 18:05:47,963 - Lbl2Vec - WARNING - The following keywords from the 'keywords_list' are unknown to the Doc2Vec model and therefore not used to train the model: lost\n",
      "2023-09-21 18:05:47,963 - Lbl2Vec - WARNING - The following keywords from the 'keywords_list' are unknown to the Doc2Vec model and therefore not used to train the model: lost\n",
      "2023-09-21 18:05:47,963 - Lbl2Vec - WARNING - The following keywords from the 'keywords_list' are unknown to the Doc2Vec model and therefore not used to train the model: lost\n",
      "2023-09-21 18:05:47,963 - Lbl2Vec - WARNING - The following keywords from the 'keywords_list' are unknown to the Doc2Vec model and therefore not used to train the model: lost\n",
      "2023-09-21 18:05:47,963 - Lbl2Vec - WARNING - The following keywords from the 'keywords_list' are unknown to the Doc2Vec model and therefore not used to train the model: lost\n",
      "2023-09-21 18:05:47,963 - Lbl2Vec - WARNING - The following keywords from the 'keywords_list' are unknown to the Doc2Vec model and therefore not used to train the model: lost\n",
      "2023-09-21 18:05:47,963 - Lbl2Vec - WARNING - The following keywords from the 'keywords_list' are unknown to the Doc2Vec model and therefore not used to train the model: lost\n",
      "2023-09-21 18:05:47,963 - Lbl2Vec - WARNING - The following keywords from the 'keywords_list' are unknown to the Doc2Vec model and therefore not used to train the model: lost\n"
     ]
    },
    {
     "data": {
      "text/plain": [
       "(0.48570916526775326,\n",
       " array([[ 2, 28, 11],\n",
       "        [ 7, 47, 19],\n",
       "        [10, 64, 83]]))"
      ]
     },
     "execution_count": 21,
     "metadata": {},
     "output_type": "execute_result"
    }
   ],
   "source": [
    "def tokenize_and_tag(corpus):\n",
    "# tokenize and tag documents for Lbl2Vec training\n",
    "    corpus['tagged_docs'] = corpus.apply(lambda row: TaggedDocument(simple_preprocess(strip_tags(row['text']), deacc=True, min_len=3, max_len=15), [str(row.name)]), axis=1)\n",
    "\n",
    "    # add doc_key column\n",
    "    corpus['doc_key'] = corpus.index.astype(str)\n",
    "\n",
    "    return corpus\n",
    "\n",
    "corpus = tokenize_and_tag(corpus)\n",
    "\n",
    "# init model with parameters\n",
    "Lbl2Vec_model = Lbl2Vec(keywords_list=list(labels.keywords),\n",
    "                        tagged_documents=corpus['tagged_docs'][corpus['data_set_type'] == 'train'],\n",
    "                        label_names=list(labels.class_name),\n",
    "                        vector_size = 300,\n",
    "                        min_count = 50,\n",
    "                        window = 15,\n",
    "                        similarity_threshold=0.3,\n",
    "                        epochs=50,\n",
    "                        verbose=False)\n",
    "\n",
    "# train model\n",
    "Lbl2Vec_model.fit()\n",
    "\n",
    "def test_and_score(model, test_data):\n",
    "    test_reviews = model.predict_new_docs(tagged_docs=test_data['tagged_docs'])\n",
    "    \n",
    "    # merge DataFrames to compare the predicted and true topic labels\n",
    "    evaluation_test = test_reviews.merge(test_data, left_on='doc_key', right_on='doc_key')\n",
    "    y_true_test = evaluation_test['class_name']\n",
    "    y_pred_test = evaluation_test['most_similar_label']\n",
    "    \n",
    "    return f1_score(y_true_test, y_pred_test, average='weighted'), confusion_matrix(y_true_test, y_pred_test)\n",
    "\n",
    "test_and_score(Lbl2Vec_model, corpus[corpus['data_set_type']=='test'])"
   ]
  },
  {
   "cell_type": "markdown",
   "id": "39cccb8d-66ca-4c79-a656-353ba34f636b",
   "metadata": {
    "tags": []
   },
   "source": [
    "### Initial Results and Tuning\n",
    "\n",
    "I'd interpret this as a rather mediocre F1 score (it's worth noting that since we have three classes, random guessing would be ~33%). It's clear to me that \"delivery\" (second row) predictions are performing the strongest, while \"order accuracy\" (first row) predictions are rather poor. Typically I would assume this would be due to class imbalance in the training data, but here it's difficult to know that due to the unsupervised nature of this algorithm, and the absence of labeled data. It looks like a lot of the \"food quality\" reviews are being interpreted as \"delivery\" so I'll be keeping an eye on this throughout the hyperparameter tuning process as well. \n",
    "\n",
    "I also want to tweak the keywords a bit to hopefully nudge some of the \"food quality\" and \"accuracy\" examples into the correct category, though I suspect that will come as a trade off to overall accuracy.\n",
    "\n",
    "After a bit of experimenting, I found that running this model at 50 epochs allowed for a good trade off between accuracy and time, so I'll test a few parameters at 50 epochs and see what we find."
   ]
  },
  {
   "cell_type": "code",
   "execution_count": null,
   "id": "9e6b9f8d-018d-45e4-9430-ceeebfe9bdb9",
   "metadata": {
    "tags": []
   },
   "outputs": [],
   "source": [
    "# vector_size_options = [200, 300, 400]\n",
    "# min_count_options = [5, 10, 20, 30]\n",
    "# window_options = [10, 15, 25]\n",
    "# similarity_threshold_options = [0.8, 0.9, 0.99]\n",
    "\n",
    "# scores = pd.DataFrame(columns = ['Vector Size', 'Min Count', 'Window Options', 'Similarity Threshold', 'F1 Score'])\n",
    "\n",
    "# for vs in vector_size_options:\n",
    "#     for mc in min_count_options:\n",
    "#         for w in window_options:\n",
    "#             for st in similarity_threshold_options:\n",
    "#                 Lbl2Vec_model = Lbl2Vec(keywords_list=list(labels.keywords),\n",
    "#                     tagged_documents=corpus['tagged_docs'][corpus['data_set_type'] == 'train'],\n",
    "#                     label_names=list(labels.class_name),\n",
    "#                     vector_size=vs,\n",
    "#                     min_count = mc,\n",
    "#                     window = w,\n",
    "#                     similarity_threshold=st,\n",
    "#                     epochs=50,\n",
    "#                     verbose=False)\n",
    "\n",
    "#                 # train model\n",
    "#                 Lbl2Vec_model.fit()\n",
    "#                 f1 = test_and_score(Lbl2Vec_model, corpus[corpus['data_set_type']=='test'])[0]\n",
    "                \n",
    "#                 scores.loc[len(scores)] = [vs, mc, w, st, f1]\n",
    "\n",
    "# scores.sort_values('F1 Score', ascending=False)"
   ]
  },
  {
   "cell_type": "markdown",
   "id": "00de0d89-2dec-4cbe-b484-fb473f46737e",
   "metadata": {
    "tags": []
   },
   "source": [
    "### Hyperparameter Tuning\n",
    "\n",
    "It looks like our best combination of parameters is:\n",
    "- vector_size = 300\n",
    "- min_count = 20\n",
    "- window = 15\n",
    "- similarity_threshold=0.8\n",
    "\n",
    "This provided an F1 score of 0.72.\n",
    "\n",
    "While this is a large improvement, I do feel a little hesitant to follow this completely for a few reasons. I'm noticing after seeing many iterations of this model that the F1 score is very volatile. Even running the same model with the exact same parameters can swing by 5% each time. I've put some time into troubleshooting this by specifying random and numpy.random seeds, but it looks as though the non-deterministic properties of this algorithm are due to a different library. This makes hyperparameter tuning a bit unreliable.\n",
    "\n",
    "Alternatively, what I have found helpful is tweaking the keywords used to define the categories. I have noticed consistent improvements by choosing less keywords for each category and ensuring they're not only related to the category, but not related to any of the others. This is critical because of the homogeneity of our vocabulary (every data point is about food). This has been a really interesting component to work on as it feels rather unique compared to more traditional parts of the predictive modeling process. Here is the final list I ended up using:"
   ]
  },
  {
   "cell_type": "code",
   "execution_count": 24,
   "id": "2391b79a-a200-4227-80ab-ea9fc346e420",
   "metadata": {},
   "outputs": [],
   "source": [
    "labels_dict = {\n",
    "    'quality': ['fresh', 'taste', 'delicious', 'gross', 'great', 'plain', 'chicken', 'pasta', 'vegetables'],\n",
    "    'delivery': ['cold', 'driver', 'late', 'lost', 'delivered', 'delivery'],\n",
    "    'accuracy': ['forgot', 'missing', 'wrong']\n",
    "}\n",
    "\n",
    "labels = parse_labels(labels_dict)"
   ]
  },
  {
   "cell_type": "markdown",
   "id": "e9216062-5f03-4b10-be37-d0307a6813df",
   "metadata": {
    "tags": []
   },
   "source": [
    "One last point I'd like to make is that it is not at all uncommon to see a review that mentions both or all three categories. While this model is outputting the single most relevant category right now, it also outputs the % match to each category meaning that with some tweaking, we could return any categories that cross a particular threshold, allowing for multiple tagged categories per review. Perhaps in a part 2 of this post. :)"
   ]
  },
  {
   "cell_type": "markdown",
   "id": "d208736e-9ac7-41f3-962a-eebd9d78ec40",
   "metadata": {},
   "source": [
    "### Visualizing Performance\n",
    "\n",
    "The last part of this project that I'm very interested in is visualizing a restaurant's performance across these three categories. Now that we can estimate which category a review is discussing, we just need an understanding of the restaurant's performance in that category. For this reason, I also pulled the star rating of each review. For example, we can assume that if a review is about delivery and is given 2 stars, the customer did not have a good delivery experience.\n",
    "\n",
    "While we can likely communicate this information using a bar chart or box and whisker plot, I'm curious to see how this information can be visualised using a polar chart. Let's start by training the model one last time with our final parameters and keyword sets, and then make predictions across our entire dataset."
   ]
  },
  {
   "cell_type": "code",
   "execution_count": 25,
   "id": "36bef207-6761-4cc4-a54c-e5fcf83321e8",
   "metadata": {
    "tags": []
   },
   "outputs": [
    {
     "name": "stdout",
     "output_type": "stream",
     "text": [
      "(0.7151600262637334, array([[ 27,   9,   5],\n",
      "       [ 12,  52,   9],\n",
      "       [ 33,  14, 110]]))\n"
     ]
    }
   ],
   "source": [
    "Lbl2Vec_model = Lbl2Vec(keywords_list=list(labels.keywords),\n",
    "                        tagged_documents=corpus['tagged_docs'][corpus['data_set_type'] == 'train'],\n",
    "                        label_names=list(labels.class_name),\n",
    "                        vector_size = 300,\n",
    "                        min_count = 20,\n",
    "                        window = 15,\n",
    "                        similarity_threshold=0.99,\n",
    "                        epochs=100,\n",
    "                        verbose=False)\n",
    "\n",
    "Lbl2Vec_model.fit()\n",
    "\n",
    "print(test_and_score(Lbl2Vec_model, corpus[corpus['data_set_type']=='test']))\n",
    "\n",
    "# predict categories\n",
    "train_reviews = Lbl2Vec_model.predict_model_docs()\n",
    "\n",
    "reviews_w_cat = train_reviews.merge(corpus[corpus['data_set_type'] == 'train'], left_on='doc_key', right_on='doc_key')"
   ]
  },
  {
   "cell_type": "code",
   "execution_count": 10,
   "id": "790e93c9-e430-4122-8d1c-b457564da2c4",
   "metadata": {},
   "outputs": [],
   "source": [
    "# map raw html attributes to star ratings\n",
    "reviews_w_cat['store'] = [url.split('/')[4] for url in reviews_w_cat['store_url']]\n",
    "reviews_w_cat['stars'] = reviews_w_cat['stars_raw'].map({'background-position: 0px -192px;': 5, \n",
    "                           'background-position: 0px -144px;': 4,\n",
    "                           'background-position: 0px -96px;': 3,\n",
    "                           'background-position: 0px -48px;': 2,\n",
    "                           'background-position: 0px 0px;': 1})"
   ]
  },
  {
   "cell_type": "code",
   "execution_count": 22,
   "id": "d6c2cf01-3021-40d3-bdfd-906a163afcbe",
   "metadata": {},
   "outputs": [
    {
     "name": "stderr",
     "output_type": "stream",
     "text": [
      "/Users/brianmcniff/opt/anaconda3/lib/python3.9/site-packages/plotly/express/_core.py:271: FutureWarning:\n",
      "\n",
      "The frame.append method is deprecated and will be removed from pandas in a future version. Use pandas.concat instead.\n",
      "\n",
      "/Users/brianmcniff/opt/anaconda3/lib/python3.9/site-packages/plotly/express/_core.py:271: FutureWarning:\n",
      "\n",
      "The frame.append method is deprecated and will be removed from pandas in a future version. Use pandas.concat instead.\n",
      "\n",
      "/Users/brianmcniff/opt/anaconda3/lib/python3.9/site-packages/plotly/express/_core.py:271: FutureWarning:\n",
      "\n",
      "The frame.append method is deprecated and will be removed from pandas in a future version. Use pandas.concat instead.\n",
      "\n"
     ]
    },
    {
     "data": {
      "application/vnd.plotly.v1+json": {
       "config": {
        "plotlyServerURL": "https://plot.ly"
       },
       "data": [
        {
         "hovertemplate": "store=9-tastes-thai-cuisine-50-jfk-st-cambridge<br>stars=%{r}<br>most_similar_label=%{theta}<extra></extra>",
         "legendgroup": "9-tastes-thai-cuisine-50-jfk-st-cambridge",
         "line": {
          "color": "#636efa",
          "dash": "solid"
         },
         "marker": {
          "symbol": "circle"
         },
         "mode": "lines",
         "name": "9-tastes-thai-cuisine-50-jfk-st-cambridge",
         "r": [
          3.32,
          1,
          4.061855670103093,
          3.32
         ],
         "showlegend": true,
         "subplot": "polar",
         "theta": [
          "accuracy",
          "delivery",
          "quality",
          "accuracy"
         ],
         "type": "scatterpolar"
        },
        {
         "hovertemplate": "store=guru-the-caterer-1295-broadway-somerville<br>stars=%{r}<br>most_similar_label=%{theta}<extra></extra>",
         "legendgroup": "guru-the-caterer-1295-broadway-somerville",
         "line": {
          "color": "#EF553B",
          "dash": "solid"
         },
         "marker": {
          "symbol": "circle"
         },
         "mode": "lines",
         "name": "guru-the-caterer-1295-broadway-somerville",
         "r": [
          3.6578947368421053,
          3,
          4.423963133640553,
          3.6578947368421053
         ],
         "showlegend": true,
         "subplot": "polar",
         "theta": [
          "accuracy",
          "delivery",
          "quality",
          "accuracy"
         ],
         "type": "scatterpolar"
        },
        {
         "hovertemplate": "store=veggie-grill-57-john-f-kennedy-st-cambridge<br>stars=%{r}<br>most_similar_label=%{theta}<extra></extra>",
         "legendgroup": "veggie-grill-57-john-f-kennedy-st-cambridge",
         "line": {
          "color": "#00cc96",
          "dash": "solid"
         },
         "marker": {
          "symbol": "circle"
         },
         "mode": "lines",
         "name": "veggie-grill-57-john-f-kennedy-st-cambridge",
         "r": [
          3.0121951219512195,
          2.3333333333333335,
          4.029304029304029,
          3.0121951219512195
         ],
         "showlegend": true,
         "subplot": "polar",
         "theta": [
          "accuracy",
          "delivery",
          "quality",
          "accuracy"
         ],
         "type": "scatterpolar"
        }
       ],
       "layout": {
        "autosize": true,
        "legend": {
         "title": {
          "text": "store"
         },
         "tracegroupgap": 0
        },
        "margin": {
         "t": 60
        },
        "polar": {
         "angularaxis": {
          "direction": "clockwise",
          "rotation": 90,
          "type": "category"
         },
         "domain": {
          "x": [
           0,
           1
          ],
          "y": [
           0,
           1
          ]
         },
         "radialaxis": {
          "autorange": true,
          "range": [
           0,
           4.423963133640553
          ],
          "type": "linear"
         }
        },
        "template": {
         "data": {
          "bar": [
           {
            "error_x": {
             "color": "#2a3f5f"
            },
            "error_y": {
             "color": "#2a3f5f"
            },
            "marker": {
             "line": {
              "color": "#E5ECF6",
              "width": 0.5
             },
             "pattern": {
              "fillmode": "overlay",
              "size": 10,
              "solidity": 0.2
             }
            },
            "type": "bar"
           }
          ],
          "barpolar": [
           {
            "marker": {
             "line": {
              "color": "#E5ECF6",
              "width": 0.5
             },
             "pattern": {
              "fillmode": "overlay",
              "size": 10,
              "solidity": 0.2
             }
            },
            "type": "barpolar"
           }
          ],
          "carpet": [
           {
            "aaxis": {
             "endlinecolor": "#2a3f5f",
             "gridcolor": "white",
             "linecolor": "white",
             "minorgridcolor": "white",
             "startlinecolor": "#2a3f5f"
            },
            "baxis": {
             "endlinecolor": "#2a3f5f",
             "gridcolor": "white",
             "linecolor": "white",
             "minorgridcolor": "white",
             "startlinecolor": "#2a3f5f"
            },
            "type": "carpet"
           }
          ],
          "choropleth": [
           {
            "colorbar": {
             "outlinewidth": 0,
             "ticks": ""
            },
            "type": "choropleth"
           }
          ],
          "contour": [
           {
            "colorbar": {
             "outlinewidth": 0,
             "ticks": ""
            },
            "colorscale": [
             [
              0,
              "#0d0887"
             ],
             [
              0.1111111111111111,
              "#46039f"
             ],
             [
              0.2222222222222222,
              "#7201a8"
             ],
             [
              0.3333333333333333,
              "#9c179e"
             ],
             [
              0.4444444444444444,
              "#bd3786"
             ],
             [
              0.5555555555555556,
              "#d8576b"
             ],
             [
              0.6666666666666666,
              "#ed7953"
             ],
             [
              0.7777777777777778,
              "#fb9f3a"
             ],
             [
              0.8888888888888888,
              "#fdca26"
             ],
             [
              1,
              "#f0f921"
             ]
            ],
            "type": "contour"
           }
          ],
          "contourcarpet": [
           {
            "colorbar": {
             "outlinewidth": 0,
             "ticks": ""
            },
            "type": "contourcarpet"
           }
          ],
          "heatmap": [
           {
            "colorbar": {
             "outlinewidth": 0,
             "ticks": ""
            },
            "colorscale": [
             [
              0,
              "#0d0887"
             ],
             [
              0.1111111111111111,
              "#46039f"
             ],
             [
              0.2222222222222222,
              "#7201a8"
             ],
             [
              0.3333333333333333,
              "#9c179e"
             ],
             [
              0.4444444444444444,
              "#bd3786"
             ],
             [
              0.5555555555555556,
              "#d8576b"
             ],
             [
              0.6666666666666666,
              "#ed7953"
             ],
             [
              0.7777777777777778,
              "#fb9f3a"
             ],
             [
              0.8888888888888888,
              "#fdca26"
             ],
             [
              1,
              "#f0f921"
             ]
            ],
            "type": "heatmap"
           }
          ],
          "heatmapgl": [
           {
            "colorbar": {
             "outlinewidth": 0,
             "ticks": ""
            },
            "colorscale": [
             [
              0,
              "#0d0887"
             ],
             [
              0.1111111111111111,
              "#46039f"
             ],
             [
              0.2222222222222222,
              "#7201a8"
             ],
             [
              0.3333333333333333,
              "#9c179e"
             ],
             [
              0.4444444444444444,
              "#bd3786"
             ],
             [
              0.5555555555555556,
              "#d8576b"
             ],
             [
              0.6666666666666666,
              "#ed7953"
             ],
             [
              0.7777777777777778,
              "#fb9f3a"
             ],
             [
              0.8888888888888888,
              "#fdca26"
             ],
             [
              1,
              "#f0f921"
             ]
            ],
            "type": "heatmapgl"
           }
          ],
          "histogram": [
           {
            "marker": {
             "pattern": {
              "fillmode": "overlay",
              "size": 10,
              "solidity": 0.2
             }
            },
            "type": "histogram"
           }
          ],
          "histogram2d": [
           {
            "colorbar": {
             "outlinewidth": 0,
             "ticks": ""
            },
            "colorscale": [
             [
              0,
              "#0d0887"
             ],
             [
              0.1111111111111111,
              "#46039f"
             ],
             [
              0.2222222222222222,
              "#7201a8"
             ],
             [
              0.3333333333333333,
              "#9c179e"
             ],
             [
              0.4444444444444444,
              "#bd3786"
             ],
             [
              0.5555555555555556,
              "#d8576b"
             ],
             [
              0.6666666666666666,
              "#ed7953"
             ],
             [
              0.7777777777777778,
              "#fb9f3a"
             ],
             [
              0.8888888888888888,
              "#fdca26"
             ],
             [
              1,
              "#f0f921"
             ]
            ],
            "type": "histogram2d"
           }
          ],
          "histogram2dcontour": [
           {
            "colorbar": {
             "outlinewidth": 0,
             "ticks": ""
            },
            "colorscale": [
             [
              0,
              "#0d0887"
             ],
             [
              0.1111111111111111,
              "#46039f"
             ],
             [
              0.2222222222222222,
              "#7201a8"
             ],
             [
              0.3333333333333333,
              "#9c179e"
             ],
             [
              0.4444444444444444,
              "#bd3786"
             ],
             [
              0.5555555555555556,
              "#d8576b"
             ],
             [
              0.6666666666666666,
              "#ed7953"
             ],
             [
              0.7777777777777778,
              "#fb9f3a"
             ],
             [
              0.8888888888888888,
              "#fdca26"
             ],
             [
              1,
              "#f0f921"
             ]
            ],
            "type": "histogram2dcontour"
           }
          ],
          "mesh3d": [
           {
            "colorbar": {
             "outlinewidth": 0,
             "ticks": ""
            },
            "type": "mesh3d"
           }
          ],
          "parcoords": [
           {
            "line": {
             "colorbar": {
              "outlinewidth": 0,
              "ticks": ""
             }
            },
            "type": "parcoords"
           }
          ],
          "pie": [
           {
            "automargin": true,
            "type": "pie"
           }
          ],
          "scatter": [
           {
            "fillpattern": {
             "fillmode": "overlay",
             "size": 10,
             "solidity": 0.2
            },
            "type": "scatter"
           }
          ],
          "scatter3d": [
           {
            "line": {
             "colorbar": {
              "outlinewidth": 0,
              "ticks": ""
             }
            },
            "marker": {
             "colorbar": {
              "outlinewidth": 0,
              "ticks": ""
             }
            },
            "type": "scatter3d"
           }
          ],
          "scattercarpet": [
           {
            "marker": {
             "colorbar": {
              "outlinewidth": 0,
              "ticks": ""
             }
            },
            "type": "scattercarpet"
           }
          ],
          "scattergeo": [
           {
            "marker": {
             "colorbar": {
              "outlinewidth": 0,
              "ticks": ""
             }
            },
            "type": "scattergeo"
           }
          ],
          "scattergl": [
           {
            "marker": {
             "colorbar": {
              "outlinewidth": 0,
              "ticks": ""
             }
            },
            "type": "scattergl"
           }
          ],
          "scattermapbox": [
           {
            "marker": {
             "colorbar": {
              "outlinewidth": 0,
              "ticks": ""
             }
            },
            "type": "scattermapbox"
           }
          ],
          "scatterpolar": [
           {
            "marker": {
             "colorbar": {
              "outlinewidth": 0,
              "ticks": ""
             }
            },
            "type": "scatterpolar"
           }
          ],
          "scatterpolargl": [
           {
            "marker": {
             "colorbar": {
              "outlinewidth": 0,
              "ticks": ""
             }
            },
            "type": "scatterpolargl"
           }
          ],
          "scatterternary": [
           {
            "marker": {
             "colorbar": {
              "outlinewidth": 0,
              "ticks": ""
             }
            },
            "type": "scatterternary"
           }
          ],
          "surface": [
           {
            "colorbar": {
             "outlinewidth": 0,
             "ticks": ""
            },
            "colorscale": [
             [
              0,
              "#0d0887"
             ],
             [
              0.1111111111111111,
              "#46039f"
             ],
             [
              0.2222222222222222,
              "#7201a8"
             ],
             [
              0.3333333333333333,
              "#9c179e"
             ],
             [
              0.4444444444444444,
              "#bd3786"
             ],
             [
              0.5555555555555556,
              "#d8576b"
             ],
             [
              0.6666666666666666,
              "#ed7953"
             ],
             [
              0.7777777777777778,
              "#fb9f3a"
             ],
             [
              0.8888888888888888,
              "#fdca26"
             ],
             [
              1,
              "#f0f921"
             ]
            ],
            "type": "surface"
           }
          ],
          "table": [
           {
            "cells": {
             "fill": {
              "color": "#EBF0F8"
             },
             "line": {
              "color": "white"
             }
            },
            "header": {
             "fill": {
              "color": "#C8D4E3"
             },
             "line": {
              "color": "white"
             }
            },
            "type": "table"
           }
          ]
         },
         "layout": {
          "annotationdefaults": {
           "arrowcolor": "#2a3f5f",
           "arrowhead": 0,
           "arrowwidth": 1
          },
          "autotypenumbers": "strict",
          "coloraxis": {
           "colorbar": {
            "outlinewidth": 0,
            "ticks": ""
           }
          },
          "colorscale": {
           "diverging": [
            [
             0,
             "#8e0152"
            ],
            [
             0.1,
             "#c51b7d"
            ],
            [
             0.2,
             "#de77ae"
            ],
            [
             0.3,
             "#f1b6da"
            ],
            [
             0.4,
             "#fde0ef"
            ],
            [
             0.5,
             "#f7f7f7"
            ],
            [
             0.6,
             "#e6f5d0"
            ],
            [
             0.7,
             "#b8e186"
            ],
            [
             0.8,
             "#7fbc41"
            ],
            [
             0.9,
             "#4d9221"
            ],
            [
             1,
             "#276419"
            ]
           ],
           "sequential": [
            [
             0,
             "#0d0887"
            ],
            [
             0.1111111111111111,
             "#46039f"
            ],
            [
             0.2222222222222222,
             "#7201a8"
            ],
            [
             0.3333333333333333,
             "#9c179e"
            ],
            [
             0.4444444444444444,
             "#bd3786"
            ],
            [
             0.5555555555555556,
             "#d8576b"
            ],
            [
             0.6666666666666666,
             "#ed7953"
            ],
            [
             0.7777777777777778,
             "#fb9f3a"
            ],
            [
             0.8888888888888888,
             "#fdca26"
            ],
            [
             1,
             "#f0f921"
            ]
           ],
           "sequentialminus": [
            [
             0,
             "#0d0887"
            ],
            [
             0.1111111111111111,
             "#46039f"
            ],
            [
             0.2222222222222222,
             "#7201a8"
            ],
            [
             0.3333333333333333,
             "#9c179e"
            ],
            [
             0.4444444444444444,
             "#bd3786"
            ],
            [
             0.5555555555555556,
             "#d8576b"
            ],
            [
             0.6666666666666666,
             "#ed7953"
            ],
            [
             0.7777777777777778,
             "#fb9f3a"
            ],
            [
             0.8888888888888888,
             "#fdca26"
            ],
            [
             1,
             "#f0f921"
            ]
           ]
          },
          "colorway": [
           "#636efa",
           "#EF553B",
           "#00cc96",
           "#ab63fa",
           "#FFA15A",
           "#19d3f3",
           "#FF6692",
           "#B6E880",
           "#FF97FF",
           "#FECB52"
          ],
          "font": {
           "color": "#2a3f5f"
          },
          "geo": {
           "bgcolor": "white",
           "lakecolor": "white",
           "landcolor": "#E5ECF6",
           "showlakes": true,
           "showland": true,
           "subunitcolor": "white"
          },
          "hoverlabel": {
           "align": "left"
          },
          "hovermode": "closest",
          "mapbox": {
           "style": "light"
          },
          "paper_bgcolor": "white",
          "plot_bgcolor": "#E5ECF6",
          "polar": {
           "angularaxis": {
            "gridcolor": "white",
            "linecolor": "white",
            "ticks": ""
           },
           "bgcolor": "#E5ECF6",
           "radialaxis": {
            "gridcolor": "white",
            "linecolor": "white",
            "ticks": ""
           }
          },
          "scene": {
           "xaxis": {
            "backgroundcolor": "#E5ECF6",
            "gridcolor": "white",
            "gridwidth": 2,
            "linecolor": "white",
            "showbackground": true,
            "ticks": "",
            "zerolinecolor": "white"
           },
           "yaxis": {
            "backgroundcolor": "#E5ECF6",
            "gridcolor": "white",
            "gridwidth": 2,
            "linecolor": "white",
            "showbackground": true,
            "ticks": "",
            "zerolinecolor": "white"
           },
           "zaxis": {
            "backgroundcolor": "#E5ECF6",
            "gridcolor": "white",
            "gridwidth": 2,
            "linecolor": "white",
            "showbackground": true,
            "ticks": "",
            "zerolinecolor": "white"
           }
          },
          "shapedefaults": {
           "line": {
            "color": "#2a3f5f"
           }
          },
          "ternary": {
           "aaxis": {
            "gridcolor": "white",
            "linecolor": "white",
            "ticks": ""
           },
           "baxis": {
            "gridcolor": "white",
            "linecolor": "white",
            "ticks": ""
           },
           "bgcolor": "#E5ECF6",
           "caxis": {
            "gridcolor": "white",
            "linecolor": "white",
            "ticks": ""
           }
          },
          "title": {
           "x": 0.05
          },
          "xaxis": {
           "automargin": true,
           "gridcolor": "white",
           "linecolor": "white",
           "ticks": "",
           "title": {
            "standoff": 15
           },
           "zerolinecolor": "white",
           "zerolinewidth": 2
          },
          "yaxis": {
           "automargin": true,
           "gridcolor": "white",
           "linecolor": "white",
           "ticks": "",
           "title": {
            "standoff": 15
           },
           "zerolinecolor": "white",
           "zerolinewidth": 2
          }
         }
        }
       }
      },
      "image/png": "[encoded data removed]",
      "text/html": [
       "<div>                            <div id=\"d1307f50-905e-4773-a431-2de797d5d726\" class=\"plotly-graph-div\" style=\"height:525px; width:100%;\"></div>            <script type=\"text/javascript\">                require([\"plotly\"], function(Plotly) {                    window.PLOTLYENV=window.PLOTLYENV || {};                                    if (document.getElementById(\"d1307f50-905e-4773-a431-2de797d5d726\")) {                    Plotly.newPlot(                        \"d1307f50-905e-4773-a431-2de797d5d726\",                        [{\"hovertemplate\":\"store=9-tastes-thai-cuisine-50-jfk-st-cambridge<br>stars=%{r}<br>most_similar_label=%{theta}<extra></extra>\",\"legendgroup\":\"9-tastes-thai-cuisine-50-jfk-st-cambridge\",\"line\":{\"color\":\"#636efa\",\"dash\":\"solid\"},\"marker\":{\"symbol\":\"circle\"},\"mode\":\"lines\",\"name\":\"9-tastes-thai-cuisine-50-jfk-st-cambridge\",\"r\":[3.32,1.0,4.061855670103093,3.32],\"showlegend\":true,\"subplot\":\"polar\",\"theta\":[\"accuracy\",\"delivery\",\"quality\",\"accuracy\"],\"type\":\"scatterpolar\"},{\"hovertemplate\":\"store=guru-the-caterer-1295-broadway-somerville<br>stars=%{r}<br>most_similar_label=%{theta}<extra></extra>\",\"legendgroup\":\"guru-the-caterer-1295-broadway-somerville\",\"line\":{\"color\":\"#EF553B\",\"dash\":\"solid\"},\"marker\":{\"symbol\":\"circle\"},\"mode\":\"lines\",\"name\":\"guru-the-caterer-1295-broadway-somerville\",\"r\":[3.6578947368421053,3.0,4.423963133640553,3.6578947368421053],\"showlegend\":true,\"subplot\":\"polar\",\"theta\":[\"accuracy\",\"delivery\",\"quality\",\"accuracy\"],\"type\":\"scatterpolar\"},{\"hovertemplate\":\"store=veggie-grill-57-john-f-kennedy-st-cambridge<br>stars=%{r}<br>most_similar_label=%{theta}<extra></extra>\",\"legendgroup\":\"veggie-grill-57-john-f-kennedy-st-cambridge\",\"line\":{\"color\":\"#00cc96\",\"dash\":\"solid\"},\"marker\":{\"symbol\":\"circle\"},\"mode\":\"lines\",\"name\":\"veggie-grill-57-john-f-kennedy-st-cambridge\",\"r\":[3.0121951219512195,2.3333333333333335,4.029304029304029,3.0121951219512195],\"showlegend\":true,\"subplot\":\"polar\",\"theta\":[\"accuracy\",\"delivery\",\"quality\",\"accuracy\"],\"type\":\"scatterpolar\"}],                        {\"template\":{\"data\":{\"histogram2dcontour\":[{\"type\":\"histogram2dcontour\",\"colorbar\":{\"outlinewidth\":0,\"ticks\":\"\"},\"colorscale\":[[0.0,\"#0d0887\"],[0.1111111111111111,\"#46039f\"],[0.2222222222222222,\"#7201a8\"],[0.3333333333333333,\"#9c179e\"],[0.4444444444444444,\"#bd3786\"],[0.5555555555555556,\"#d8576b\"],[0.6666666666666666,\"#ed7953\"],[0.7777777777777778,\"#fb9f3a\"],[0.8888888888888888,\"#fdca26\"],[1.0,\"#f0f921\"]]}],\"choropleth\":[{\"type\":\"choropleth\",\"colorbar\":{\"outlinewidth\":0,\"ticks\":\"\"}}],\"histogram2d\":[{\"type\":\"histogram2d\",\"colorbar\":{\"outlinewidth\":0,\"ticks\":\"\"},\"colorscale\":[[0.0,\"#0d0887\"],[0.1111111111111111,\"#46039f\"],[0.2222222222222222,\"#7201a8\"],[0.3333333333333333,\"#9c179e\"],[0.4444444444444444,\"#bd3786\"],[0.5555555555555556,\"#d8576b\"],[0.6666666666666666,\"#ed7953\"],[0.7777777777777778,\"#fb9f3a\"],[0.8888888888888888,\"#fdca26\"],[1.0,\"#f0f921\"]]}],\"heatmap\":[{\"type\":\"heatmap\",\"colorbar\":{\"outlinewidth\":0,\"ticks\":\"\"},\"colorscale\":[[0.0,\"#0d0887\"],[0.1111111111111111,\"#46039f\"],[0.2222222222222222,\"#7201a8\"],[0.3333333333333333,\"#9c179e\"],[0.4444444444444444,\"#bd3786\"],[0.5555555555555556,\"#d8576b\"],[0.6666666666666666,\"#ed7953\"],[0.7777777777777778,\"#fb9f3a\"],[0.8888888888888888,\"#fdca26\"],[1.0,\"#f0f921\"]]}],\"heatmapgl\":[{\"type\":\"heatmapgl\",\"colorbar\":{\"outlinewidth\":0,\"ticks\":\"\"},\"colorscale\":[[0.0,\"#0d0887\"],[0.1111111111111111,\"#46039f\"],[0.2222222222222222,\"#7201a8\"],[0.3333333333333333,\"#9c179e\"],[0.4444444444444444,\"#bd3786\"],[0.5555555555555556,\"#d8576b\"],[0.6666666666666666,\"#ed7953\"],[0.7777777777777778,\"#fb9f3a\"],[0.8888888888888888,\"#fdca26\"],[1.0,\"#f0f921\"]]}],\"contourcarpet\":[{\"type\":\"contourcarpet\",\"colorbar\":{\"outlinewidth\":0,\"ticks\":\"\"}}],\"contour\":[{\"type\":\"contour\",\"colorbar\":{\"outlinewidth\":0,\"ticks\":\"\"},\"colorscale\":[[0.0,\"#0d0887\"],[0.1111111111111111,\"#46039f\"],[0.2222222222222222,\"#7201a8\"],[0.3333333333333333,\"#9c179e\"],[0.4444444444444444,\"#bd3786\"],[0.5555555555555556,\"#d8576b\"],[0.6666666666666666,\"#ed7953\"],[0.7777777777777778,\"#fb9f3a\"],[0.8888888888888888,\"#fdca26\"],[1.0,\"#f0f921\"]]}],\"surface\":[{\"type\":\"surface\",\"colorbar\":{\"outlinewidth\":0,\"ticks\":\"\"},\"colorscale\":[[0.0,\"#0d0887\"],[0.1111111111111111,\"#46039f\"],[0.2222222222222222,\"#7201a8\"],[0.3333333333333333,\"#9c179e\"],[0.4444444444444444,\"#bd3786\"],[0.5555555555555556,\"#d8576b\"],[0.6666666666666666,\"#ed7953\"],[0.7777777777777778,\"#fb9f3a\"],[0.8888888888888888,\"#fdca26\"],[1.0,\"#f0f921\"]]}],\"mesh3d\":[{\"type\":\"mesh3d\",\"colorbar\":{\"outlinewidth\":0,\"ticks\":\"\"}}],\"scatter\":[{\"fillpattern\":{\"fillmode\":\"overlay\",\"size\":10,\"solidity\":0.2},\"type\":\"scatter\"}],\"parcoords\":[{\"type\":\"parcoords\",\"line\":{\"colorbar\":{\"outlinewidth\":0,\"ticks\":\"\"}}}],\"scatterpolargl\":[{\"type\":\"scatterpolargl\",\"marker\":{\"colorbar\":{\"outlinewidth\":0,\"ticks\":\"\"}}}],\"bar\":[{\"error_x\":{\"color\":\"#2a3f5f\"},\"error_y\":{\"color\":\"#2a3f5f\"},\"marker\":{\"line\":{\"color\":\"#E5ECF6\",\"width\":0.5},\"pattern\":{\"fillmode\":\"overlay\",\"size\":10,\"solidity\":0.2}},\"type\":\"bar\"}],\"scattergeo\":[{\"type\":\"scattergeo\",\"marker\":{\"colorbar\":{\"outlinewidth\":0,\"ticks\":\"\"}}}],\"scatterpolar\":[{\"type\":\"scatterpolar\",\"marker\":{\"colorbar\":{\"outlinewidth\":0,\"ticks\":\"\"}}}],\"histogram\":[{\"marker\":{\"pattern\":{\"fillmode\":\"overlay\",\"size\":10,\"solidity\":0.2}},\"type\":\"histogram\"}],\"scattergl\":[{\"type\":\"scattergl\",\"marker\":{\"colorbar\":{\"outlinewidth\":0,\"ticks\":\"\"}}}],\"scatter3d\":[{\"type\":\"scatter3d\",\"line\":{\"colorbar\":{\"outlinewidth\":0,\"ticks\":\"\"}},\"marker\":{\"colorbar\":{\"outlinewidth\":0,\"ticks\":\"\"}}}],\"scattermapbox\":[{\"type\":\"scattermapbox\",\"marker\":{\"colorbar\":{\"outlinewidth\":0,\"ticks\":\"\"}}}],\"scatterternary\":[{\"type\":\"scatterternary\",\"marker\":{\"colorbar\":{\"outlinewidth\":0,\"ticks\":\"\"}}}],\"scattercarpet\":[{\"type\":\"scattercarpet\",\"marker\":{\"colorbar\":{\"outlinewidth\":0,\"ticks\":\"\"}}}],\"carpet\":[{\"aaxis\":{\"endlinecolor\":\"#2a3f5f\",\"gridcolor\":\"white\",\"linecolor\":\"white\",\"minorgridcolor\":\"white\",\"startlinecolor\":\"#2a3f5f\"},\"baxis\":{\"endlinecolor\":\"#2a3f5f\",\"gridcolor\":\"white\",\"linecolor\":\"white\",\"minorgridcolor\":\"white\",\"startlinecolor\":\"#2a3f5f\"},\"type\":\"carpet\"}],\"table\":[{\"cells\":{\"fill\":{\"color\":\"#EBF0F8\"},\"line\":{\"color\":\"white\"}},\"header\":{\"fill\":{\"color\":\"#C8D4E3\"},\"line\":{\"color\":\"white\"}},\"type\":\"table\"}],\"barpolar\":[{\"marker\":{\"line\":{\"color\":\"#E5ECF6\",\"width\":0.5},\"pattern\":{\"fillmode\":\"overlay\",\"size\":10,\"solidity\":0.2}},\"type\":\"barpolar\"}],\"pie\":[{\"automargin\":true,\"type\":\"pie\"}]},\"layout\":{\"autotypenumbers\":\"strict\",\"colorway\":[\"#636efa\",\"#EF553B\",\"#00cc96\",\"#ab63fa\",\"#FFA15A\",\"#19d3f3\",\"#FF6692\",\"#B6E880\",\"#FF97FF\",\"#FECB52\"],\"font\":{\"color\":\"#2a3f5f\"},\"hovermode\":\"closest\",\"hoverlabel\":{\"align\":\"left\"},\"paper_bgcolor\":\"white\",\"plot_bgcolor\":\"#E5ECF6\",\"polar\":{\"bgcolor\":\"#E5ECF6\",\"angularaxis\":{\"gridcolor\":\"white\",\"linecolor\":\"white\",\"ticks\":\"\"},\"radialaxis\":{\"gridcolor\":\"white\",\"linecolor\":\"white\",\"ticks\":\"\"}},\"ternary\":{\"bgcolor\":\"#E5ECF6\",\"aaxis\":{\"gridcolor\":\"white\",\"linecolor\":\"white\",\"ticks\":\"\"},\"baxis\":{\"gridcolor\":\"white\",\"linecolor\":\"white\",\"ticks\":\"\"},\"caxis\":{\"gridcolor\":\"white\",\"linecolor\":\"white\",\"ticks\":\"\"}},\"coloraxis\":{\"colorbar\":{\"outlinewidth\":0,\"ticks\":\"\"}},\"colorscale\":{\"sequential\":[[0.0,\"#0d0887\"],[0.1111111111111111,\"#46039f\"],[0.2222222222222222,\"#7201a8\"],[0.3333333333333333,\"#9c179e\"],[0.4444444444444444,\"#bd3786\"],[0.5555555555555556,\"#d8576b\"],[0.6666666666666666,\"#ed7953\"],[0.7777777777777778,\"#fb9f3a\"],[0.8888888888888888,\"#fdca26\"],[1.0,\"#f0f921\"]],\"sequentialminus\":[[0.0,\"#0d0887\"],[0.1111111111111111,\"#46039f\"],[0.2222222222222222,\"#7201a8\"],[0.3333333333333333,\"#9c179e\"],[0.4444444444444444,\"#bd3786\"],[0.5555555555555556,\"#d8576b\"],[0.6666666666666666,\"#ed7953\"],[0.7777777777777778,\"#fb9f3a\"],[0.8888888888888888,\"#fdca26\"],[1.0,\"#f0f921\"]],\"diverging\":[[0,\"#8e0152\"],[0.1,\"#c51b7d\"],[0.2,\"#de77ae\"],[0.3,\"#f1b6da\"],[0.4,\"#fde0ef\"],[0.5,\"#f7f7f7\"],[0.6,\"#e6f5d0\"],[0.7,\"#b8e186\"],[0.8,\"#7fbc41\"],[0.9,\"#4d9221\"],[1,\"#276419\"]]},\"xaxis\":{\"gridcolor\":\"white\",\"linecolor\":\"white\",\"ticks\":\"\",\"title\":{\"standoff\":15},\"zerolinecolor\":\"white\",\"automargin\":true,\"zerolinewidth\":2},\"yaxis\":{\"gridcolor\":\"white\",\"linecolor\":\"white\",\"ticks\":\"\",\"title\":{\"standoff\":15},\"zerolinecolor\":\"white\",\"automargin\":true,\"zerolinewidth\":2},\"scene\":{\"xaxis\":{\"backgroundcolor\":\"#E5ECF6\",\"gridcolor\":\"white\",\"linecolor\":\"white\",\"showbackground\":true,\"ticks\":\"\",\"zerolinecolor\":\"white\",\"gridwidth\":2},\"yaxis\":{\"backgroundcolor\":\"#E5ECF6\",\"gridcolor\":\"white\",\"linecolor\":\"white\",\"showbackground\":true,\"ticks\":\"\",\"zerolinecolor\":\"white\",\"gridwidth\":2},\"zaxis\":{\"backgroundcolor\":\"#E5ECF6\",\"gridcolor\":\"white\",\"linecolor\":\"white\",\"showbackground\":true,\"ticks\":\"\",\"zerolinecolor\":\"white\",\"gridwidth\":2}},\"shapedefaults\":{\"line\":{\"color\":\"#2a3f5f\"}},\"annotationdefaults\":{\"arrowcolor\":\"#2a3f5f\",\"arrowhead\":0,\"arrowwidth\":1},\"geo\":{\"bgcolor\":\"white\",\"landcolor\":\"#E5ECF6\",\"subunitcolor\":\"white\",\"showland\":true,\"showlakes\":true,\"lakecolor\":\"white\"},\"title\":{\"x\":0.05},\"mapbox\":{\"style\":\"light\"}}},\"polar\":{\"domain\":{\"x\":[0.0,1.0],\"y\":[0.0,1.0]},\"angularaxis\":{\"direction\":\"clockwise\",\"rotation\":90}},\"legend\":{\"title\":{\"text\":\"store\"},\"tracegroupgap\":0},\"margin\":{\"t\":60}},                        {\"responsive\": true}                    ).then(function(){\n",
       "                            \n",
       "var gd = document.getElementById('d1307f50-905e-4773-a431-2de797d5d726');\n",
       "var x = new MutationObserver(function (mutations, observer) {{\n",
       "        var display = window.getComputedStyle(gd).display;\n",
       "        if (!display || display === 'none') {{\n",
       "            console.log([gd, 'removed!']);\n",
       "            Plotly.purge(gd);\n",
       "            observer.disconnect();\n",
       "        }}\n",
       "}});\n",
       "\n",
       "// Listen for the removal of the full notebook cells\n",
       "var notebookContainer = gd.closest('#notebook-container');\n",
       "if (notebookContainer) {{\n",
       "    x.observe(notebookContainer, {childList: true});\n",
       "}}\n",
       "\n",
       "// Listen for the clearing of the current output cell\n",
       "var outputEl = gd.closest('.output');\n",
       "if (outputEl) {{\n",
       "    x.observe(outputEl, {childList: true});\n",
       "}}\n",
       "\n",
       "                        })                };                });            </script>        </div>"
      ]
     },
     "metadata": {},
     "output_type": "display_data"
    }
   ],
   "source": [
    "polar_df = reviews_w_cat[['store', 'most_similar_label', 'stars']].groupby(['store', 'most_similar_label']).mean()\n",
    "polar_df = polar_df.reset_index()\n",
    "\n",
    "example_restuarants = polar_df[\n",
    "    (polar_df.store == 'guru-the-caterer-1295-broadway-somerville') | \n",
    "    (polar_df.store == '9-tastes-thai-cuisine-50-jfk-st-cambridge') |\n",
    "    (polar_df.store == 'veggie-grill-57-john-f-kennedy-st-cambridge')][['store', 'most_similar_label', 'stars']]\n",
    "fig = px.line_polar(example_restuarants, r = 'stars', theta = 'most_similar_label', line_close = True, color='store')\n",
    "\n",
    "fig.show()"
   ]
  },
  {
   "cell_type": "markdown",
   "id": "380813ed-74e7-4259-bd69-5436bc867345",
   "metadata": {},
   "source": [
    "### Closing Thoughts\n",
    "There are a couple of things I notice with this visualization - the first is that it intuitively shows the overall quality of a restaurant, and allows one to compare overall qualities by comparing overall areas. However there are definitely many benefits that a traditional grouped bar chart would have over this. Regardless, it's interesting to see the data displayed in this way!\n",
    "\n",
    "It's been interesting to see that delivery scores are almost always the lowest, followed by accuracy, and then quality. This makes perfect sense to me as many people will have nothing to say if their order was on time and accurate. For this same exact reason, it was actually hard to find terms that were positive or neutral to include for delivery/accuracy keywords.\n",
    "\n",
    "Speaking about this model more generally, I'm very surprised to see the scores it's able to achieve given a small sample size, and what I think is a very difficult problem to solve - distinguishing between categories within a single topic. As next steps to improve this model, I would definitely invest more time in collecting data (likely an order of magnitude or more), revisit hyperparameter tuning, and perhaps rework the algorithm to output multiple categories where appropriate.\n",
    "\n",
    "For now though, I will leave this project here. If you're interested in running this code for restaurants near you, here is a Google Colab notebook with all of the code above."
   ]
  }
 ],
 "metadata": {
  "kernelspec": {
   "display_name": "Python 3 (ipykernel)",
   "language": "python",
   "name": "python3"
  },
  "language_info": {
   "codemirror_mode": {
    "name": "ipython",
    "version": 3
   },
   "file_extension": ".py",
   "mimetype": "text/x-python",
   "name": "python",
   "nbconvert_exporter": "python",
   "pygments_lexer": "ipython3",
   "version": "3.9.7"
  }
 },
 "nbformat": 4,
 "nbformat_minor": 5
}
